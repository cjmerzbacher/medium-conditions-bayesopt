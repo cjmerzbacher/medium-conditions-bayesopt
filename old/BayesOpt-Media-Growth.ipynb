{
 "cells": [
  {
   "cell_type": "markdown",
   "id": "d5268353-3435-44c7-88e5-a3b1326b5e44",
   "metadata": {
    "jp-MarkdownHeadingCollapsed": true
   },
   "source": [
    "# Multi-objective Bayesian Optimisation"
   ]
  },
  {
   "cell_type": "markdown",
   "id": "374ed588-3595-4c5a-b344-c1e2d36fb6b3",
   "metadata": {
    "id": "374ed588-3595-4c5a-b344-c1e2d36fb6b3"
   },
   "source": [
    "https://botorch.org/docs/multi_objective\n",
    "* \"The goal in MOBO is learn the Pareto front: the set of optimal trade-offs, where an improvement in one objective means deteriorating another objective.\"\n",
    "* \"The MC-based acquisition functions support using the sample average approximation for rapid convergence\"\n",
    "* Additionally, variations on ParEGO can be trivially implemented using an augmented Chebyshev scalarization as the objective with an EI-type single-objective acquisition function such as qLogNoisyExpectedImprovement. The get_chebyshev_scalarization convenience function generates these scalarizations.\n",
    "  \n",
    "https://botorch.org/tutorials/constrained_multi_objective_bo\n",
    "Considerations\n",
    "* BoTorch assumes maximization\n",
    "  * leave growth rate as it is\n",
    "  * maximise negative of costs\n",
    "\n",
    "\n",
    "from: https://botorch.org/tutorials/constrained_multi_objective_bo\n",
    "\n",
    "\"For batch optimization (or in noisy settings), we strongly recommend using NEHVI rather than EHVI [1] because it is far more efficient than EHVI and mathematically equivalent in the noiseless setting.\" <- but that's hypervolumen...\n",
    "\n",
    "\"Note: EHVI aggressively exploits parallel hardware and is much faster when run on a GPU. See [1] for details.\"\n",
    "-> use GPU and run on server"
   ]
  },
  {
   "cell_type": "markdown",
   "id": "c1c05ac1-0a6f-443c-a850-86c76567aa90",
   "metadata": {
    "id": "c1c05ac1-0a6f-443c-a850-86c76567aa90",
    "jp-MarkdownHeadingCollapsed": true
   },
   "source": [
    "### Function\n",
    "* The model consists of a list of mono-objective models.\n",
    "The likelihood at each point is the sum of all (both) GP’s likelihood.\n",
    "* Acquisition optimisation\n",
    "  * optimises multiple (2) objectives at once\n",
    "  * approach used: qNParEGO\n",
    "    * starts with scalarisation - combine all objectives into a single compound function (augmented chebyshev)\n",
    "  * random process; possibly slower than qEHVI or qNEHVI\n",
    "  *\n",
    "### Concept\n",
    "Within the function\n",
    "1. Change the medium composition using BayesOpt\n",
    "2. For each composition\n",
    "     1. calculate the cost\n",
    "     2. find optimal growth rate using FBA\n",
    "     3. calculate growth/cost (should be maximised)\n",
    "        * How to prevent that the cost is driven to 0? -> even if it drives growth to 0, it will probably be numerically optimal\n",
    "3. Return optimal medium composition, growth rate, costs and relationship"
   ]
  },
  {
   "cell_type": "markdown",
   "id": "e3070e7b-2268-4be5-b3fc-b197a0669dcd",
   "metadata": {
    "id": "e3070e7b-2268-4be5-b3fc-b197a0669dcd"
   },
   "source": [
    "# Implementation"
   ]
  },
  {
   "cell_type": "code",
   "execution_count": 1,
   "id": "ArISd1WjiHjr",
   "metadata": {
    "colab": {
     "base_uri": "https://localhost:8080/"
    },
    "id": "ArISd1WjiHjr",
    "outputId": "eb84dba5-2329-4257-9d4b-5376609c6f7c"
   },
   "outputs": [],
   "source": [
    "# When running in google colab\n",
    "#pip install cobra"
   ]
  },
  {
   "cell_type": "code",
   "execution_count": 2,
   "id": "SNh5PxaHiYGd",
   "metadata": {
    "colab": {
     "base_uri": "https://localhost:8080/"
    },
    "id": "SNh5PxaHiYGd",
    "outputId": "c2e1896e-0f3a-43c7-9e01-6f78fbe60235"
   },
   "outputs": [],
   "source": [
    "# When running in google colab\n",
    "#pip install botorch"
   ]
  },
  {
   "cell_type": "code",
   "execution_count": 3,
   "id": "5eb93be1-e79c-469d-a533-3820e3e0b15e",
   "metadata": {
    "id": "5eb93be1-e79c-469d-a533-3820e3e0b15e"
   },
   "outputs": [],
   "source": [
    "from cobra.io import load_model\n",
    "\n",
    "import torch\n",
    "from botorch.models import SingleTaskGP, ModelListGP\n",
    "from gpytorch.mlls.sum_marginal_log_likelihood import SumMarginalLogLikelihood\n",
    "from botorch.fit import fit_gpytorch_mll\n",
    "# sampler\n",
    "from botorch.sampling.normal import SobolQMCNormalSampler\n",
    "from botorch.utils.sampling import sample_simplex\n",
    "\n",
    "# Acquisition function\n",
    "from botorch.optim.optimize import optimize_acqf_list\n",
    "from botorch.optim import optimize_acqf # optimise acquisition function\n",
    "\n",
    "from botorch.acquisition.logei import qLogExpectedImprovement # assumes noiselessness\n",
    "from botorch.acquisition.objective import GenericMCObjective\n",
    "\n",
    "from botorch.utils.transforms import unnormalize, normalize # for normalising media components\n",
    "from botorch.utils.multi_objective.scalarization import get_chebyshev_scalarization\n",
    "\n",
    "import random # for initial data\n",
    "import json # to save results\n",
    "import copy # to be able to do deep copies\n",
    "import numpy as np"
   ]
  },
  {
   "cell_type": "markdown",
   "id": "d64ab0f7-96ad-4c14-a098-54d20514c50e",
   "metadata": {
    "id": "d64ab0f7-96ad-4c14-a098-54d20514c50e"
   },
   "source": [
    "### Helper Functions & Plotting"
   ]
  },
  {
   "cell_type": "code",
   "execution_count": 4,
   "id": "99ec471a-b284-4ed5-a01e-b24221e85feb",
   "metadata": {
    "id": "99ec471a-b284-4ed5-a01e-b24221e85feb"
   },
   "outputs": [],
   "source": [
    "# Plotting functions to be used across notebooks\n",
    "#%run ../HelperFunctions.ipynb\n",
    "\n",
    "# same but for .py version\n",
    "from HelperFunctions import *"
   ]
  },
  {
   "cell_type": "code",
   "execution_count": 5,
   "id": "e5a4ec5e-1cdb-46de-af3b-c4a384675f2f",
   "metadata": {},
   "outputs": [],
   "source": [
    "# Plotting functions to be used across notebooks\n",
    "#%run ../Plotting.ipynb\n",
    "\n",
    "# same but for .py version\n",
    "from Plotting import *"
   ]
  },
  {
   "cell_type": "markdown",
   "id": "b2f51bc6-cf50-49d7-9b66-a4ee10c72bb6",
   "metadata": {},
   "source": [
    "## BayesOpt"
   ]
  },
  {
   "cell_type": "code",
   "execution_count": 6,
   "id": "f3b2748d",
   "metadata": {},
   "outputs": [],
   "source": [
    "def find_next_candidate_noiseless(medium_tensors_normalised_stacked, cost_tensor, growth_tensor,\n",
    "                                  bounds_tensors_stacked, n_candidates = 1):\n",
    "    \"\"\"\n",
    "    Finds the next medium composition for which to evaluate cost and optimal growth rate\n",
    "    * normalises the medium composition between 0,1\n",
    "    * initialises botorch model (list of SingleTaskGP) and mll\n",
    "    * calculates posterior mean\n",
    "    * uses SobolQMCNormalSampler to sample from posterior\n",
    "    * uses qLogExpectedImprovement acquisition function\n",
    "    * uses chebyshev_scalarization to create a vector representation of the two objectives (cost mini, growth rate max)\n",
    "    \n",
    "    PARAMETERS\n",
    "    * medium_tensors_normalised_stacked - tensor - all medium compositions previously evaluated, stored as tensors (in order)\n",
    "    * cost_tensor - tensor - corresponding medium costs\n",
    "    * growth_tensor - tensor - corresponding growth rates\n",
    "    * bounds_tensors_stacked - tensors - upper and lower bounds for the values the medium components are allowed to take,\n",
    "    determines the search space;\n",
    "    * n_candidates - integer - how many candidates to find at once\n",
    "\n",
    "    RETURNS\n",
    "    * candidates[0] - tensor - a tensors with the normalised (0,1) medium composition\n",
    "    \"\"\"\n",
    "\n",
    "    '''parameters and conversion to tensors; normalisation of medium composition to (0,1)'''\n",
    "    MC_SAMPLES = 256 #256 # Number of Monte Carlo samples in SobolQMCNormalSampler\n",
    "    n_components = medium_tensors_normalised_stacked.size()[1] # of medium components\n",
    "    standard_bounds = standard_bounds = torch.tensor([[0.0] * n_components, \n",
    "                                                      [1.0] * n_components]).to(**tkwargs) # normalised bounds for medium composition\n",
    "    # large values -> slower but possibly better accuracy\n",
    "    NUM_RESTARTS =  5 #10 # Number of restarts for acquisition function optimisation\n",
    "    RAW_SAMPLES = 512 # 1024 # Number of raw samples for initialisation of acquisition optimisation\n",
    "\n",
    "\n",
    "    '''finding the new candidate'''\n",
    "    # initialise GP model and marginal likelihood (mll)\n",
    "    mll, model = initialise_model(\n",
    "        medium_tensors_normalised_stacked, \n",
    "        cost_tensor, \n",
    "        growth_tensor)\n",
    "    \n",
    "    fit_gpytorch_mll(mll) # # Fit the model using the maximum marginal likelihood\n",
    "\n",
    "    # Compute the posterior mean for the given medium_tensors_stacked using the model\n",
    "    with torch.no_grad():\n",
    "        posterior = model.posterior(medium_tensors_normalised_stacked).mean\n",
    "\n",
    "    # Set up a Sobol quasi-Monte Carlo sampler for sampling from the posterior\n",
    "    # The sample_shape should correspond to the shape of the posterior samples needed\n",
    "    sampler = SobolQMCNormalSampler(sample_shape = torch.Size([MC_SAMPLES]), seed = MC_SAMPLES)\n",
    "\n",
    "    acq_fun_list = [] # List to hold acquisition functions for each candidate\n",
    "    # Loop to generate acquisition functions for each candidate\n",
    "    for _ in range(n_candidates):\n",
    "        # Sample weights from the simplex for Chebyshev scalarization\n",
    "        weights = sample_simplex(2, **tkwargs).squeeze() # using 2 weights for scalarization (cost and growth)\n",
    "\n",
    "        # Compute the scalarised objective values for all the training points\n",
    "        scalarized_objective_values = (\n",
    "            weights[0] * growth_tensor + \n",
    "            weights[1] * cost_tensor)\n",
    "        # Find the best observed scalarized objective value\n",
    "        best_f = scalarized_objective_values.max().item()\n",
    "\n",
    "        # Define objective\n",
    "        objective = GenericMCObjective(\n",
    "            get_chebyshev_scalarization(weights, posterior)\n",
    "        )\n",
    "\n",
    "        # Define the acquisition function using quasi Monte Carlo EI\n",
    "        acq_fun = qLogExpectedImprovement(\n",
    "            model = model, # List of SingleTastk GP\n",
    "            best_f = best_f, # best objective value observed so far - replaces X_baseline in Noisy version\n",
    "            sampler = sampler, # SobolQMCNormalSampler\n",
    "            objective = objective, # combination of cost and growth - Chebyshev scalarization\n",
    "        )\n",
    "        acq_fun_list.append(acq_fun)\n",
    "\n",
    "    candidates, _ = optimize_acqf_list(\n",
    "        acq_function_list = acq_fun_list,  # List of acquisition functions to optimise\n",
    "        bounds = standard_bounds, # The normalised bounds for optimisation\n",
    "        num_restarts = NUM_RESTARTS, # Number of restarts for optimisation\n",
    "        raw_samples = RAW_SAMPLES, # Number of raw samples for initialisation (?)\n",
    "        options = {\"batch_limit\": 10, \"maxiter\": 200,} # Options for acquisition function optimisation\n",
    "    )\n",
    "\n",
    "    return candidates[0] # candidate_tensor_normalised"
   ]
  },
  {
   "cell_type": "markdown",
   "id": "b2e81206-6abd-4ea8-96a8-ecd1fc41e3c3",
   "metadata": {
    "id": "b2e81206-6abd-4ea8-96a8-ecd1fc41e3c3"
   },
   "source": [
    "### Main"
   ]
  },
  {
   "cell_type": "code",
   "execution_count": 7,
   "id": "3ebade7a-1f07-4932-a448-5ed3acba40c8",
   "metadata": {
    "id": "3ebade7a-1f07-4932-a448-5ed3acba40c8"
   },
   "outputs": [],
   "source": [
    "def media_BayesOpt(MetModel, medium = None, bounds = None, costs = None,\n",
    "                   objective = \"growth-cost\", gct = 1,\n",
    "                   n_start = 5, n_iter = 50,\n",
    "                  ):\n",
    "    \"\"\"\n",
    "    Performs medium optimisation for various objectives\n",
    "    * trade-off between growth rate and cost\n",
    "    * ...\n",
    "\n",
    "    1. Sets default values for medium, bounds and costs if not provided by the user\n",
    "    2. Performs optimisation n_iter (default = 50) times\n",
    "        1. calls generate_initial_data(args) to generate initial data points\n",
    "        2. finds new candidate medium calling find_next_candidate(args)\n",
    "        3. evaluates new medium for growth rate and costs\n",
    "        4. keeps all values\n",
    "    3. returns optimal composition alongside corresponding cost, growth, and cost-growth trade-off\n",
    "\n",
    "    PARAMETERS:\n",
    "    * MetModel - COBRApy model - the metabolic model to be evaluated\n",
    "    * medium - dictionary - the medium composition of that model; if not provided defaults to default medium provided by CobraPy\n",
    "    * bounds - dictionary - upper and lower bounds for the values the medium components are allowed to take,\n",
    "    determines the search space; if not provided defaults to 0, and current medium value\n",
    "    * costs - dictionary - the (monetary) cost of each component; if not provided defaults to unit costs\n",
    "    * objective - string - indicates what is to be optimised\n",
    "    * gct - integer - the trade-off between growth and cost; currently not used\n",
    "    * n_start - integer - how many random media compositions are to be created to set up the BayesOpt\n",
    "    * n_iter - integer - how many candidate medium compositions should be found and evaluated\n",
    "\n",
    "    RETURNS:\n",
    "    A dictionary containing\n",
    "    * a list of all evaluated medium compositions\n",
    "    * a tensor with corresponding growth rates\n",
    "    * a tensor with corresponding total medium costs\n",
    "    * a dictionary with the upper and lower bounds of each medium components\n",
    "    * a dictionary with the cost of each medium component\n",
    "    \"\"\"\n",
    "    \n",
    "    # Set default values for medium, boundaries and costs\n",
    "    if medium is None:\n",
    "        medium = MetModel.medium  # Default medium to model.medium if not provided\n",
    "    if bounds is None:\n",
    "        # if no bounds are provided, set the lower limit to 0 and upper to value in medium\n",
    "        #bounds = {key: (0, 2*medium[key]+100) for key in medium.keys()} # used up until 09.10.2024\n",
    "        bounds = {key: (0, medium[key]) for key in medium.keys()}\n",
    "    if costs is None:\n",
    "        costs = {key: 1 for key in medium.keys()}  # Default unit cost if not provided\n",
    "    ### TODO: check that model.medium and costs have the same number of entries\n",
    "\n",
    "    '''Optimise the trade-off between growth and cost'''\n",
    "    if objective == \"growth-cost\":\n",
    "         # initialisation samples\n",
    "\n",
    "        # generate 5 initial data points (parameters and corresponding cost + growth rate)\n",
    "        initial_para, initial_cost, initial_growth = generate_initial_data(\n",
    "            MetModel, medium, bounds, costs, n_samples = n_start)\n",
    "\n",
    "        medium_list = initial_para # list of dictonaries\n",
    "        medium_keys = medium_list[-1].keys() # extract keys from medium_list\n",
    "        cost_tensor = initial_cost # tensor | <0 (generate_initial_data returns negative total costs)\n",
    "        growth_tensor = initial_growth # tensor\n",
    "\n",
    "\n",
    "        '''convert medium_list to tensor'''\n",
    "        # convert bounds from dictionary to tensor\n",
    "        bounds_tensor = torch.tensor(list(bounds.values()), dtype=torch.double).to(**tkwargs) # [x, 2]\n",
    "        # Stack the lower and upper bounds to match the expected format\n",
    "        bounds_tensors_stacked = torch.stack([bounds_tensor[:, 0], bounds_tensor[:, 1]], dim=0)\n",
    "\n",
    "        # normalise medium composition\n",
    "        medium_tensors_normalised = [] # initialise empty list\n",
    "        for m in range(len(medium_list)):\n",
    "            # transform current medium to tensor\n",
    "            medium_m = medium_list[m]\n",
    "            medium_m_tensor = torch.tensor(list(medium_m.values()), dtype=torch.double).to(**tkwargs) # [x]\n",
    "            # normalise medium composition\n",
    "            normalised_medium_m = normalize(medium_m_tensor, bounds_tensors_stacked)\n",
    "            # Append the normalized tensor to the list\n",
    "            medium_tensors_normalised.append(normalised_medium_m)\n",
    "            \n",
    "\n",
    "        # LOOP\n",
    "        for i in range(n_iter):\n",
    "            # Stack the list of tensors along a new dimension (dim=0) -> single tensor\n",
    "            medium_tensors_normalised_stacked = torch.stack(medium_tensors_normalised, dim = 0) # normalised\n",
    "\n",
    "            # Use BayesOpt to change medium\n",
    "            candidate_tensor_normalised = find_next_candidate_noiseless(medium_tensors_normalised_stacked,\n",
    "                                                                        cost_tensor, \n",
    "                                                                        growth_tensor,\n",
    "                                                                        bounds_tensors_stacked\n",
    "                                                                       )\n",
    "            # unnormlise new candidate\n",
    "            candidate_tensor_unnormalised = unnormalize(candidate_tensor_normalised, bounds_tensors_stacked)\n",
    "            # convert back to dictionary            \n",
    "            candidate_medium = convert_to_dict(candidate_tensor_unnormalised, medium_keys)\n",
    "            \n",
    "            \n",
    "            # for new medium compute new values\n",
    "            cost_tot = calc_cost_tot(costs, candidate_medium) # tensor\n",
    "            MetModel.medium = candidate_medium # reassign medium\n",
    "            FBA_growth = MetModel.slim_optimize() # calculate growth rate - float\n",
    "            # some model compositions lead to MetModel.slim_optimze returning NaN\n",
    "            # to avoid them from breaking the algorithm, set growth to zero\n",
    "            if np.isnan(FBA_growth):\n",
    "                FBA_growth = 0\n",
    "\n",
    "            ### append to list/tensor\n",
    "            # medium lists\n",
    "            medium_list.append(candidate_medium)\n",
    "            medium_tensors_normalised.append(candidate_tensor_normalised)\n",
    "            # cost\n",
    "            cost_tot = -cost_tot  # BOtorch assumes maximisation, so we maximise the negative of the costs.\n",
    "            cost_tensor = torch.cat((cost_tensor, cost_tot), dim=0)  # Concatenate along dimension 0 (1D tensors)\n",
    "            # growth\n",
    "            FBA_growth_tensor = torch.tensor([FBA_growth], dtype=torch.double).to(**tkwargs)\n",
    "            growth_tensor = torch.cat((growth_tensor, FBA_growth_tensor), dim=0)  # Concatenate along dimension 0\n",
    "            if ((i+1)%10 == 0):\n",
    "                print(\"Iteration:\\t\", i+1)\n",
    "\n",
    "\n",
    "        # Find all points on pareto front and return them     \n",
    "        # Stack the two objectives (growth rate and medium cost) into a single 2D tensor\n",
    "        # rows: candidates\n",
    "        # columns: growth rate (positive), medium costs (negative)\n",
    "        y = torch.stack((growth_tensor, cost_tensor), dim = 1)\n",
    "        # negate y because pareto front assumes that minimisation is the goal -> growth rate becomes negative and costs postive        \n",
    "        is_pareto = is_non_dominated((y).to(**tkwargs)) # Compute non-dominated (Pareto front) points; i.e. optimal trade.offs\n",
    "\n",
    "\n",
    "        # multiply cost_tensor with -1 so that it returns positive values\n",
    "        return {\"medium list\" : medium_list, \"growth rate tensors\" : growth_tensor, \"cost tensor\" : (cost_tensor*(-1)),\n",
    "                \"medium component bounds\" : bounds, \"medium component costs\" : costs, \"is pareto\" : is_pareto,\n",
    "               }\n",
    "\n",
    "    \n",
    "    \"\"\"\n",
    "    The objective passed to mediaBayesOpt is none of the recognised objectives \n",
    "    - only 5 initial data points are generated and returned\n",
    "    \"\"\"\n",
    "    # generate 5 initial data points (parameters and corresponding cost + growth rate)\n",
    "    initial_para, initial_cost, initial_growth = generate_initial_data(\n",
    "        MetModel, medium, bounds, costs, n_samples = n_start\n",
    "    )\n",
    "\n",
    "    # return just initial data\n",
    "    # multiply initial_cost with -1 so that it returns positive values\n",
    "    return {\"initial medium list\" : initial_para, \"initial growth rate tensors\" : initial_growth,\n",
    "            \"initial cost tensor\" : (initial_cost*(-1)),\n",
    "            \"medium component bounds\" : bounds, \"medium component costs\" : costs\n",
    "           }\n"
   ]
  },
  {
   "cell_type": "markdown",
   "id": "7ac0a125-508d-42c9-9088-a7fa52f0a348",
   "metadata": {
    "id": "7ac0a125-508d-42c9-9088-a7fa52f0a348"
   },
   "source": [
    "# Run Optimisation"
   ]
  },
  {
   "cell_type": "code",
   "execution_count": 8,
   "id": "b9bacead",
   "metadata": {},
   "outputs": [
    {
     "data": {
      "text/plain": [
       "'\"\\ndef media_BayesOpt(MetModel, medium = None, bounds = None, costs = None,\\n                   objective = \"growth-cost\", gct = 1,\\n                   n_start = 5, n_iter = 50,\\n                  ):\\n'"
      ]
     },
     "execution_count": 8,
     "metadata": {},
     "output_type": "execute_result"
    }
   ],
   "source": [
    "# set n_iter and date to be used in all calls and names\n",
    "date = \"2024-11-08\"\n",
    "rounds = 2 # how often should the algorithm run\n",
    "n_start = 10 # how many random media compositions to initialise the algorithm\n",
    "n_iter = 45 # how many media compositions to evaluate; saw convergence after about 40\n",
    "iterations = str(n_iter)\n",
    "\n",
    "\"\"\"\"\n",
    "def media_BayesOpt(MetModel, medium = None, bounds = None, costs = None,\n",
    "                   objective = \"growth-cost\", gct = 1,\n",
    "                   n_start = 5, n_iter = 50,\n",
    "                  ):\n",
    "\"\"\""
   ]
  },
  {
   "cell_type": "markdown",
   "id": "65f9bd0a-e521-49d9-8172-bd47e5bf4169",
   "metadata": {},
   "source": [
    "## textbook"
   ]
  },
  {
   "cell_type": "markdown",
   "id": "0498af50",
   "metadata": {},
   "source": [
    "### Set Up Model"
   ]
  },
  {
   "cell_type": "code",
   "execution_count": 9,
   "id": "e5da7a35-e27b-4822-bdba-a04ec645507e",
   "metadata": {
    "id": "e5da7a35-e27b-4822-bdba-a04ec645507e"
   },
   "outputs": [
    {
     "name": "stdout",
     "output_type": "stream",
     "text": [
      "e_coli_core\n"
     ]
    }
   ],
   "source": [
    "'''textbook'''\n",
    "# Model\n",
    "model_text = load_model(\"textbook\")\n",
    "print(model_text)\n",
    "\n",
    "# Medium\n",
    "medium_text = model_text.medium\n",
    "bounds_text = {\n",
    "    'EX_co2_e': (0.00, 100),\n",
    "    'EX_glc__D_e': (1, 10),\n",
    "    'EX_h_e': (0.00, 100),\n",
    "    'EX_h2o_e': (0.00, 100),\n",
    "    'EX_nh4_e': (0.00, 100),\n",
    "    'EX_o2_e': (0.00, 100),\n",
    "    'EX_pi_e': (0.00, 100)\n",
    "}\n",
    "\n",
    "# Costs\n",
    "costs_text = {\n",
    "    'EX_co2_e': 0.01, # CO2 - undetermined costs\n",
    "    'EX_glc__D_e': 7.76, # Glucose\n",
    "    'EX_h_e': 0.01, # Hydrogen - undetermined costs\n",
    "    'EX_h2o_e': 0.01, # water - undetermined costs\n",
    "    'EX_nh4_e': 3.67, # Ammonia - NH4Cl\n",
    "    'EX_o2_e': 0.01, # oxygen - undetermined costs\n",
    "    'EX_pi_e': 17.0, # Phosphate - approximate (several sources)\n",
    "}\n",
    "objective = \"growth-cost\""
   ]
  },
  {
   "cell_type": "markdown",
   "id": "b7557c4f",
   "metadata": {},
   "source": [
    "### Call Main Function & Plot Results"
   ]
  },
  {
   "cell_type": "code",
   "execution_count": 13,
   "id": "58d3a1e4",
   "metadata": {},
   "outputs": [
    {
     "name": "stdout",
     "output_type": "stream",
     "text": [
      "Running textbook (E.coli core) model.\n"
     ]
    }
   ],
   "source": [
    "'''textbook'''\n",
    "rounds = 0\n",
    "n_iter = 100 # how many media compositions to evaluate; saw convergence after about 40\n",
    "iterations = str(n_iter)\n",
    "\n",
    "print(\"Running textbook (E.coli core) model.\")\n",
    "for r in range(rounds):\n",
    "    print(\"Round:\\t\", r+1, \"of \", rounds)\n",
    "    results_text = media_BayesOpt(model_text, medium = medium_text, bounds = bounds_text, costs = costs_text, \n",
    "                                  n_start = n_start, n_iter = n_iter)\n",
    "\n",
    "    # Convert the tensors to lists for JSON serialisation\n",
    "    results_json_comp = copy.deepcopy(results_text) # make deep copy so that results stays unaffected\n",
    "    results_json_comp[\"growth rate tensors\"] = results_json_comp[\"growth rate tensors\"].tolist()\n",
    "    results_json_comp[\"growth rate list\"] = results_json_comp.pop(\"growth rate tensors\") # change name of dictionary key\n",
    "    results_json_comp[\"cost tensor\"] = results_json_comp[\"cost tensor\"].tolist()\n",
    "    results_json_comp[\"cost list\"] = results_json_comp.pop(\"cost tensor\") # change name of dictionary key\n",
    "    results_json_comp[\"is pareto\"] = results_json_comp[\"is pareto\"].tolist()\n",
    "\n",
    "    # convert into json and save as file\n",
    "    runde = str(r+1)\n",
    "    name = date + \"_BayesOpt_Noiseless_textbook_non-default_\" + iterations + \"it_round\" + runde + \".json\"\n",
    "    with open(name, 'w') as f: \n",
    "        json.dump(results_json_comp, f, indent=2) # indent for readability\n",
    "    \n",
    "    # Delete the results_json_comp to free up memory\n",
    "    del results_json_comp\n",
    "\n",
    "    # plot\n",
    "    plot_pareto(results_text, (date + \"_BayesOpt_Noiseless_textbook_non-default_\" + iterations + \"it_pareto_round\" + runde + \".png\"))\n",
    "    plot_growth_per_cost(results_text, (date + \"_BayesOpt_Noiseless_textbook_non-default_\" + iterations + \"it_growthcost_round\" + runde + \".png\"))"
   ]
  },
  {
   "cell_type": "markdown",
   "id": "71a04641-9bd3-4642-8215-6c26f6f04511",
   "metadata": {},
   "source": [
    "## iML1515 (*E.coli*)"
   ]
  },
  {
   "cell_type": "markdown",
   "id": "3cde5541",
   "metadata": {},
   "source": [
    "### Set Up Model"
   ]
  },
  {
   "cell_type": "code",
   "execution_count": 11,
   "id": "0cc8bd88-20c9-4812-9c1c-71f16cd02ca8",
   "metadata": {},
   "outputs": [
    {
     "name": "stdout",
     "output_type": "stream",
     "text": [
      "iML1515\n",
      "Number of medium components: 24\n"
     ]
    }
   ],
   "source": [
    "# Model\n",
    "model_iML1515 = load_model(\"iML1515\")\n",
    "print(model_iML1515)\n",
    "\n",
    "# Medium\n",
    "medium_iML1515 = {\n",
    "    'EX_pi_e': 1000.0, \n",
    "    'EX_co2_e': 1000.0,\n",
    "    'EX_fe3_e': 1000.0,\n",
    "    'EX_h_e': 1000.0,\n",
    "    'EX_mn2_e': 1000.0,\n",
    "    'EX_fe2_e': 1000.0,\n",
    "    'EX_glc__D_e': 10.0,\n",
    "    'EX_zn2_e': 1000.0,\n",
    "    'EX_mg2_e': 1000.0,\n",
    "    'EX_ca2_e': 1000.0,\n",
    "    'EX_ni2_e': 1000.0,\n",
    "    'EX_cu2_e': 1000.0,\n",
    "    'EX_sel_e': 1000.0,\n",
    "    'EX_cobalt2_e': 1000.0,\n",
    "    'EX_h2o_e': 1000.0,\n",
    "    'EX_mobd_e': 1000.0,\n",
    "    'EX_so4_e': 1000.0,\n",
    "    'EX_nh4_e': 1000.0,\n",
    "    'EX_k_e': 1000.0,\n",
    "    'EX_na1_e': 1000.0,\n",
    "    'EX_cl_e': 1000.0,\n",
    "    'EX_o2_e': 1000.0,\n",
    "    'EX_tungs_e': 1000.0,\n",
    "    'EX_slnt_e': 1000.0\n",
    "    }\n",
    "print(\"Number of medium components:\", len(medium_iML1515))\n",
    "medium_iML1515_M9 = {\n",
    "    'EX_pi_e': 34.90, # in M9\n",
    "    'EX_mn2_e': 0.001, # - required?; drops at 0.0001\n",
    "    'EX_fe2_e': 0.1, # - required?; drops at 0.01\n",
    "    'EX_glc__D_e': 10.0, # in M9\n",
    "    'EX_zn2_e': 0.001, # - required?; drops at 0.0001\n",
    "    'EX_mg2_e': 1.0, # in M9 \n",
    "    'EX_ca2_e': 0.05, # in M9\n",
    "    'EX_ni2_e': 0.001, # - required?; drops at 0.0001\n",
    "    'EX_cu2_e': 0.001, # - required?; drops at 0.0001\n",
    "    'EX_cobalt2_e': 0.0001, # - required; drops at 0.00001 \n",
    "    'EX_mobd_e': 0.00001, # - required?; drops at 0.000001\n",
    "    'EX_so4_e': 1.0, # in M9\n",
    "    'EX_nh4_e': 9.3475, # in M9\n",
    "    'EX_k_e': 11.02, # in M9\n",
    "    #'EX_na1_e': 52.038, # in M9\n",
    "    'EX_cl_e': 13.6755, # in M9\n",
    "    'EX_o2_e': 20.0, # in M9 II - drops at 10\n",
    "}\n",
    "\n",
    "# Bounds\n",
    "bounds_iML1515 = {\n",
    "    'EX_pi_e': (0.0, 10),\n",
    "    'EX_co2_e': (0.0, 1.0), # can be set to 0\n",
    "    'EX_fe3_e': (0.0, 1.0), # can be set to 0\n",
    "    'EX_h_e': (0.0, 1.0), # can be set to 0\n",
    "    'EX_mn2_e': (0.0, 1.0), \n",
    "    'EX_fe2_e': (0.0, 1.0),\n",
    "    'EX_glc__D_e': (1.0, 10),\n",
    "    'EX_zn2_e': (0.0, 1.0),\n",
    "    'EX_mg2_e': (0.0, 10),\n",
    "    'EX_ca2_e': (0.0, 10),\n",
    "    'EX_ni2_e': (0.0, 1.0),\n",
    "    'EX_cu2_e': (0.0, 1.0),\n",
    "    'EX_sel_e': (0.0, 1.0), # can be set to 0\n",
    "    'EX_cobalt2_e': (0.0, 1.0),\n",
    "    'EX_h2o_e': (0.0, 1.0), # can be set to 0\n",
    "    'EX_mobd_e': (0.0, 1.0),\n",
    "    'EX_so4_e': (0.0, 10),\n",
    "    'EX_nh4_e': (0.0, 10),\n",
    "    'EX_k_e': (0.0, 10),\n",
    "    'EX_na1_e': (0.0, 1.0), # can be set to 0\n",
    "    'EX_cl_e': (0.0, 10),\n",
    "    'EX_o2_e': (0.0, 100), # can't be set to 10\n",
    "    'EX_tungs_e': (0.0, 1.0), # can be set to 0\n",
    "    'EX_slnt_e': (0.0, 1.0) # can be set to 0\n",
    "}\n",
    "#print(bounds_iML1515)\n",
    "bounds_iML1515_M9 = {\n",
    "    'EX_pi_e': (0.0, 50),\n",
    "    'EX_mn2_e': (0.001, 0.001), # fix \"trace\" \n",
    "    'EX_fe2_e': (0.1, 0.1), # fix \"trace\"\n",
    "    'EX_glc__D_e': (1.0, 10),\n",
    "    'EX_zn2_e': (0.001, 0.001), # fix \"trace\"\n",
    "    'EX_mg2_e': (0.0, 10),\n",
    "    'EX_ca2_e': (0.0, 10),\n",
    "    'EX_ni2_e': (0.001, 0.001), # fix \"trace\"\n",
    "    'EX_cu2_e': (0.001, 0.001), # fix \"trace\"\n",
    "    'EX_cobalt2_e': (0.0001, 0.0001), # fix \"trace\"\n",
    "    'EX_mobd_e': (0.00001, 0.00001), # fix \"trace\"\n",
    "    'EX_so4_e': (0.0, 10),\n",
    "    'EX_nh4_e': (0.0, 10),\n",
    "    'EX_k_e': (0.0, 20),\n",
    "    #'EX_na1_e': (0.0, 0.0), # fix - can be set to 0\n",
    "    'EX_cl_e': (0.0, 20),\n",
    "    'EX_o2_e': (100, 100), # fix - can't be set to 10 or lower\n",
    "}\n",
    "\n",
    "# Costs\n",
    "costs_iML1515 = {\n",
    "    'EX_pi_e': 17.0, # Phosphate - approximate (several sources)\n",
    "    'EX_co2_e': 0.01, # CO2 - undetermined costs\n",
    "    'EX_fe3_e': 52.17, # Iron(III) - as Ferric citrate\n",
    "    'EX_h_e': 0.01, # Hydrogen - undetermined costs\n",
    "    'EX_mn2_e': 33.25, # Manganese - MnCl2·4H20\n",
    "    'EX_fe2_e': 37.5, # IronII - as iron sulfate FeSO4·7H2O\n",
    "    'EX_glc__D_e': 7.76, # Glucose\n",
    "    'EX_zn2_e': 28.3, # Zinc - as Zn(CH3CHOOH)·H2O\n",
    "    'EX_mg2_e': 38.20, # Magnesium - as MgSO4·7H2O\n",
    "    'EX_ca2_e': 18.08, # Calcium - as CaCl2·2H2O\n",
    "    'EX_ni2_e': 53.24, # Nickel - as NiCl2·6H2O\n",
    "    'EX_cu2_e': 31.37, # Copper - CuCl2·2H2O\n",
    "    'EX_sel_e': 726.43, # Selenium - non-reduced\n",
    "    'EX_cobalt2_e': 114.39, # Cobalt - as CoCl2·6H2O\n",
    "    'EX_h2o_e': 0.01, # water - undetermined costs\n",
    "    'EX_mobd_e': 184.12, # Molybdenum - molybdate NaMoO4·2H2O\n",
    "    'EX_so4_e': 16.00, # Sulfate - approximate (several sources and \"side-effect\"\n",
    "    'EX_nh4_e': 3.67, # Ammonia - as NH4Cl - approximate (several sources and \"side-effect\"\n",
    "    'EX_k_e': 7.45, # Potassium - as KCl - approximate (several sources and \"side-effect\"\n",
    "    'EX_na1_e': 3.04, # Sodium - as NaCl - approximate (several sources and \"side-effect\"\n",
    "    'EX_cl_e': 3.04, # Chlorid - as NaCl - approximate (several sources and \"side-effect\"\n",
    "    'EX_o2_e': 0.01, # oxygen - undetermined costs\n",
    "    'EX_tungs_e': 517.86, # Tungsten - as Na₂WO₄\n",
    "    'EX_slnt_e': 323.40 # Selenite - as Na2SeO3\n",
    "}\n",
    "# set costs for trace metals etc. to 0; use cost matrix for M9 medium\n",
    "costs_iML1515_M9 = {\n",
    "    'EX_pi_e': 23.4234, # Phosphate - approximate (several sources)\n",
    "    'EX_mn2_e': 0.0, #33.25, # Manganese - MnCl2·4H20\n",
    "    'EX_fe2_e': 0.0, #37.5, # IronII - as iron sulfate FeSO4·7H2O\n",
    "    'EX_glc__D_e': 7.7647236, # Glucose\n",
    "    'EX_zn2_e': 0.0, #28.3, # Zinc - as Zn(CH3CHOOH)·H2O\n",
    "    'EX_mg2_e': 19.1022, # Magnesium - as MgSO4·7H2O - approximate bc. half of 38.2044\n",
    "    'EX_ca2_e': 18.08223, # Calcium - as CaCl2·2H2O\n",
    "    'EX_ni2_e': 0.0, #53.24, # Nickel - as NiCl2·6H2O\n",
    "    'EX_cu2_e': 0.0, #31.37, # Copper - CuCl2·2H2O\n",
    "    'EX_cobalt2_e': 0.0, #114.39, # Cobalt - as CoCl2·6H2O\n",
    "    'EX_mobd_e': 0.0, #184.12, # Molybdenum - molybdate NaMoO4·2H2O\n",
    "    'EX_so4_e': 19.1022, # Sulfate - as MgSO4·7H2O - approximate bc. half of 38.2044\n",
    "    'EX_nh4_e': 10.099587, # Ammonia - as NH4Cl - approximate (several sources and \"side-effect\"\n",
    "    'EX_k_e': 20.82177, # Potassium - as KCl - approximate (several sources and \"side-effect\"\n",
    "    #'EX_na1_e': 0.0, # Sodium - as NaCl, Na2HPO4\n",
    "    'EX_cl_e': 3.03888, # Chlorid - as NaCl, NH4Cl, CaCl2 - approximate price from NaCl\n",
    "    'EX_o2_e': 0.0, # oxygen - no costs\n",
    "}"
   ]
  },
  {
   "cell_type": "markdown",
   "id": "9e436744-6dd9-4db7-a0d1-9aa45a38497c",
   "metadata": {
    "id": "9e436744-6dd9-4db7-a0d1-9aa45a38497c"
   },
   "source": [
    "### Call Main Function & Plot Results"
   ]
  },
  {
   "cell_type": "markdown",
   "id": "9a1f7c05",
   "metadata": {},
   "source": [
    "#### M9 Medium"
   ]
  },
  {
   "cell_type": "code",
   "execution_count": 13,
   "id": "9400810d",
   "metadata": {},
   "outputs": [
    {
     "name": "stdout",
     "output_type": "stream",
     "text": [
      "Running iML1515 model with M9 medium.\n",
      "Round:\t 1 of  1\n",
      "Iteration:\t 10\n",
      "Iteration:\t 20\n",
      "Iteration:\t 30\n",
      "Iteration:\t 40\n"
     ]
    },
    {
     "data": {
      "image/png": "[encoded data removed]",
      "text/plain": [
       "<Figure size 1000x700 with 2 Axes>"
      ]
     },
     "metadata": {},
     "output_type": "display_data"
    },
    {
     "data": {
      "image/png": "[encoded data removed]",
      "text/plain": [
       "<Figure size 1000x700 with 2 Axes>"
      ]
     },
     "metadata": {},
     "output_type": "display_data"
    }
   ],
   "source": [
    "rounds = 1\n",
    "n_iter = 40 # how many media compositions to evaluate; after 150 didn't seem to have converged\n",
    "iterations = str(n_iter)\n",
    "\n",
    "'''iML1515'''\n",
    "print(\"Running iML1515 model with M9 medium.\")\n",
    "for r in range(rounds):\n",
    "    print(\"Round:\\t\", r+1, \"of \", rounds)\n",
    "    results_iML1515_M9 = media_BayesOpt(\n",
    "        model_iML1515, \n",
    "        medium = medium_iML1515_M9, bounds = bounds_iML1515_M9, costs = costs_iML1515_M9,\n",
    "        n_start= n_start, n_iter = n_iter)\n",
    "    \n",
    "    # Convert the tensors to lists for JSON serialisation\n",
    "    results_json_comp = copy.deepcopy(results_iML1515_M9) # make deep copy so that results stays unaffected\n",
    "    results_json_comp[\"growth rate tensors\"] = results_json_comp[\"growth rate tensors\"].tolist()\n",
    "    results_json_comp[\"growth rate list\"] = results_json_comp.pop(\"growth rate tensors\") # change name of dictionary key\n",
    "    results_json_comp[\"cost tensor\"] = results_json_comp[\"cost tensor\"].tolist()\n",
    "    results_json_comp[\"cost list\"] = results_json_comp.pop(\"cost tensor\") # change name of dictionary key\n",
    "    results_json_comp[\"is pareto\"] = results_json_comp[\"is pareto\"].tolist()\n",
    "    \n",
    "    # convert into json and save as file\n",
    "    runde = str(r+1)\n",
    "    name = date + \"_BayesOpt_Noiseless_iML1515_M9_\" + iterations + \"it_round\" + runde + \".json\"\n",
    "    with open(name, 'w') as f: \n",
    "        json.dump(results_json_comp, f, indent=2) # indent for readability\n",
    "    \n",
    "    # Delete the results_json_comp to free up memory\n",
    "    del results_json_comp\n",
    "\n",
    "    # plot\n",
    "    plot_pareto(results_iML1515_M9, (date + \"_BayesOpt_Noiseless_iML1515_M9_\" + iterations + \"it_pareto_round\" + runde + \".png\"))\n",
    "    plot_growth_per_cost(results_iML1515_M9, (date + \"_BayesOpt_Noiseless_iML1515_M9_\" + iterations + \"it_growthcost_round\" + runde + \".png\"))"
   ]
  }
 ],
 "metadata": {
  "accelerator": "GPU",
  "colab": {
   "collapsed_sections": [
    "374ed588-3595-4c5a-b344-c1e2d36fb6b3"
   ],
   "gpuType": "T4",
   "provenance": []
  },
  "kernelspec": {
   "display_name": "Bayesian-opt",
   "language": "python",
   "name": "python3"
  },
  "language_info": {
   "codemirror_mode": {
    "name": "ipython",
    "version": 3
   },
   "file_extension": ".py",
   "mimetype": "text/x-python",
   "name": "python",
   "nbconvert_exporter": "python",
   "pygments_lexer": "ipython3",
   "version": "3.12.5"
  }
 },
 "nbformat": 4,
 "nbformat_minor": 5
}
